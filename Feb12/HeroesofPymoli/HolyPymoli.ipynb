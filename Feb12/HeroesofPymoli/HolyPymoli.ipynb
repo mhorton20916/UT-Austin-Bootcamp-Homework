{
 "cells": [
  {
   "cell_type": "code",
   "execution_count": 96,
   "metadata": {},
   "outputs": [],
   "source": [
    "# Importing dependencies\n",
    "import pandas as pd\n",
    "import numpy as np\n",
    "import os\n",
    "\n",
    "# Finding Files\n",
    "files = os.listdir('Resources')"
   ]
  },
  {
   "cell_type": "code",
   "execution_count": 97,
   "metadata": {},
   "outputs": [
    {
     "data": {
      "text/html": [
       "<div>\n",
       "<style>\n",
       "    .dataframe thead tr:only-child th {\n",
       "        text-align: right;\n",
       "    }\n",
       "\n",
       "    .dataframe thead th {\n",
       "        text-align: left;\n",
       "    }\n",
       "\n",
       "    .dataframe tbody tr th {\n",
       "        vertical-align: top;\n",
       "    }\n",
       "</style>\n",
       "<table border=\"1\" class=\"dataframe\">\n",
       "  <thead>\n",
       "    <tr style=\"text-align: right;\">\n",
       "      <th></th>\n",
       "      <th>Age</th>\n",
       "      <th>Gender</th>\n",
       "      <th>Item ID</th>\n",
       "      <th>Item Name</th>\n",
       "      <th>Price</th>\n",
       "      <th>SN</th>\n",
       "    </tr>\n",
       "  </thead>\n",
       "  <tbody>\n",
       "    <tr>\n",
       "      <th>0</th>\n",
       "      <td>20</td>\n",
       "      <td>Male</td>\n",
       "      <td>93</td>\n",
       "      <td>Apocalyptic Battlescythe</td>\n",
       "      <td>4.49</td>\n",
       "      <td>Iloni35</td>\n",
       "    </tr>\n",
       "    <tr>\n",
       "      <th>1</th>\n",
       "      <td>21</td>\n",
       "      <td>Male</td>\n",
       "      <td>12</td>\n",
       "      <td>Dawne</td>\n",
       "      <td>3.36</td>\n",
       "      <td>Aidaira26</td>\n",
       "    </tr>\n",
       "    <tr>\n",
       "      <th>2</th>\n",
       "      <td>17</td>\n",
       "      <td>Male</td>\n",
       "      <td>5</td>\n",
       "      <td>Putrid Fan</td>\n",
       "      <td>2.63</td>\n",
       "      <td>Irim47</td>\n",
       "    </tr>\n",
       "    <tr>\n",
       "      <th>3</th>\n",
       "      <td>17</td>\n",
       "      <td>Male</td>\n",
       "      <td>123</td>\n",
       "      <td>Twilight's Carver</td>\n",
       "      <td>2.55</td>\n",
       "      <td>Irith83</td>\n",
       "    </tr>\n",
       "    <tr>\n",
       "      <th>4</th>\n",
       "      <td>22</td>\n",
       "      <td>Male</td>\n",
       "      <td>154</td>\n",
       "      <td>Feral Katana</td>\n",
       "      <td>4.11</td>\n",
       "      <td>Philodil43</td>\n",
       "    </tr>\n",
       "  </tbody>\n",
       "</table>\n",
       "</div>"
      ],
      "text/plain": [
       "   Age Gender  Item ID                 Item Name  Price          SN\n",
       "0   20   Male       93  Apocalyptic Battlescythe   4.49     Iloni35\n",
       "1   21   Male       12                     Dawne   3.36   Aidaira26\n",
       "2   17   Male        5                Putrid Fan   2.63      Irim47\n",
       "3   17   Male      123         Twilight's Carver   2.55     Irith83\n",
       "4   22   Male      154              Feral Katana   4.11  Philodil43"
      ]
     },
     "execution_count": 97,
     "metadata": {},
     "output_type": "execute_result"
    }
   ],
   "source": [
    "# Change this number to call different files\n",
    "f = files[1]\n",
    "df = pd.read_json(os.path.join('Resources',f))\n",
    "df.head()"
   ]
  },
  {
   "cell_type": "markdown",
   "metadata": {},
   "source": [
    "# Player Count"
   ]
  },
  {
   "cell_type": "code",
   "execution_count": 98,
   "metadata": {},
   "outputs": [
    {
     "data": {
      "text/html": [
       "<div>\n",
       "<style>\n",
       "    .dataframe thead tr:only-child th {\n",
       "        text-align: right;\n",
       "    }\n",
       "\n",
       "    .dataframe thead th {\n",
       "        text-align: left;\n",
       "    }\n",
       "\n",
       "    .dataframe tbody tr th {\n",
       "        vertical-align: top;\n",
       "    }\n",
       "</style>\n",
       "<table border=\"1\" class=\"dataframe\">\n",
       "  <thead>\n",
       "    <tr style=\"text-align: right;\">\n",
       "      <th></th>\n",
       "      <th>Total Number of Players</th>\n",
       "    </tr>\n",
       "  </thead>\n",
       "  <tbody>\n",
       "    <tr>\n",
       "      <th>0</th>\n",
       "      <td>74</td>\n",
       "    </tr>\n",
       "  </tbody>\n",
       "</table>\n",
       "</div>"
      ],
      "text/plain": [
       "   Total Number of Players\n",
       "0                       74"
      ]
     },
     "execution_count": 98,
     "metadata": {},
     "output_type": "execute_result"
    }
   ],
   "source": [
    "player_count = len(df.SN.unique())\n",
    "player_count_df = pd.DataFrame(data=[player_count],columns=['Total Number of Players'])\n",
    "player_count_df"
   ]
  },
  {
   "cell_type": "markdown",
   "metadata": {},
   "source": [
    "# Purchase Analysis (Total)"
   ]
  },
  {
   "cell_type": "code",
   "execution_count": 99,
   "metadata": {},
   "outputs": [
    {
     "data": {
      "text/html": [
       "<style  type=\"text/css\" >\n",
       "</style>  \n",
       "<table id=\"T_d19fbdd0_0f8d_11e8_a3e1_3e9509432833\" > \n",
       "<thead>    <tr> \n",
       "        <th class=\"blank level0\" ></th> \n",
       "        <th class=\"col_heading level0 col0\" >Number of Unique Items</th> \n",
       "        <th class=\"col_heading level0 col1\" >Average Purchase Price</th> \n",
       "        <th class=\"col_heading level0 col2\" >Total Number of Purchases</th> \n",
       "        <th class=\"col_heading level0 col3\" >Total Revenue</th> \n",
       "    </tr></thead> \n",
       "<tbody>    <tr> \n",
       "        <th id=\"T_d19fbdd0_0f8d_11e8_a3e1_3e9509432833level0_row0\" class=\"row_heading level0 row0\" >0</th> \n",
       "        <td id=\"T_d19fbdd0_0f8d_11e8_a3e1_3e9509432833row0_col0\" class=\"data row0 col0\" >63</td> \n",
       "        <td id=\"T_d19fbdd0_0f8d_11e8_a3e1_3e9509432833row0_col1\" class=\"data row0 col1\" >$ 2.92</td> \n",
       "        <td id=\"T_d19fbdd0_0f8d_11e8_a3e1_3e9509432833row0_col2\" class=\"data row0 col2\" >78</td> \n",
       "        <td id=\"T_d19fbdd0_0f8d_11e8_a3e1_3e9509432833row0_col3\" class=\"data row0 col3\" >$ 228.10</td> \n",
       "    </tr></tbody> \n",
       "</table> "
      ],
      "text/plain": [
       "<pandas.io.formats.style.Styler at 0x24e31816a90>"
      ]
     },
     "execution_count": 99,
     "metadata": {},
     "output_type": "execute_result"
    }
   ],
   "source": [
    "# Number of unique Items\n",
    "items = df['Item Name'].unique()\n",
    "num_unique_items = len(items)\n",
    "\n",
    "# Average Purchase price\n",
    "avg_price = df['Price'].mean()\n",
    "\n",
    "# Total Number of Purchases\n",
    "total_purchases = len(df['Price'])\n",
    "\n",
    "# Total Revenue\n",
    "total_revenue = df['Price'].sum()\n",
    "\n",
    "# Compiling Analysis into a single output table\n",
    "pa_df = pd.DataFrame(data=[num_unique_items, avg_price, total_purchases, total_revenue])\n",
    "pa_df = pa_df.transpose()\n",
    "pa_df[[0,2]] = pa_df[[0,2]].astype(int)\n",
    "\n",
    "\n",
    "pa_df.rename(columns={0: 'Number of Unique Items',\n",
    "                      1: 'Average Purchase Price',\n",
    "                      2: 'Total Number of Purchases',\n",
    "                      3: 'Total Revenue'},inplace=True)\n",
    "pa_df = pa_df.style.format({'Average Purchase Price': '$ {:,.2f}','Total Revenue': '$ {:,.2f}'})\n",
    "pa_df"
   ]
  },
  {
   "cell_type": "markdown",
   "metadata": {
    "collapsed": true
   },
   "source": [
    "# Gender Demographics"
   ]
  },
  {
   "cell_type": "code",
   "execution_count": 100,
   "metadata": {},
   "outputs": [
    {
     "data": {
      "text/html": [
       "<div>\n",
       "<style>\n",
       "    .dataframe thead tr:only-child th {\n",
       "        text-align: right;\n",
       "    }\n",
       "\n",
       "    .dataframe thead th {\n",
       "        text-align: left;\n",
       "    }\n",
       "\n",
       "    .dataframe tbody tr th {\n",
       "        vertical-align: top;\n",
       "    }\n",
       "</style>\n",
       "<table border=\"1\" class=\"dataframe\">\n",
       "  <thead>\n",
       "    <tr style=\"text-align: right;\">\n",
       "      <th></th>\n",
       "      <th>Count</th>\n",
       "      <th>Percent</th>\n",
       "    </tr>\n",
       "  </thead>\n",
       "  <tbody>\n",
       "    <tr>\n",
       "      <th>Male</th>\n",
       "      <td>64</td>\n",
       "      <td>86.486486</td>\n",
       "    </tr>\n",
       "    <tr>\n",
       "      <th>Female</th>\n",
       "      <td>13</td>\n",
       "      <td>17.567568</td>\n",
       "    </tr>\n",
       "    <tr>\n",
       "      <th>Other/Non-Disclosed</th>\n",
       "      <td>1</td>\n",
       "      <td>1.351351</td>\n",
       "    </tr>\n",
       "  </tbody>\n",
       "</table>\n",
       "</div>"
      ],
      "text/plain": [
       "                     Count    Percent\n",
       "Male                    64  86.486486\n",
       "Female                  13  17.567568\n",
       "Other/Non-Disclosed      1   1.351351"
      ]
     },
     "execution_count": 100,
     "metadata": {},
     "output_type": "execute_result"
    }
   ],
   "source": [
    "gender_counts = df['Gender'].value_counts()\n",
    "\n",
    "# Percentage and count of male players\n",
    "male_count = gender_counts['Male']\n",
    "male_percent = male_count/player_count*100\n",
    "\n",
    "# Percentage and count of female players\n",
    "female_count = gender_counts['Female']\n",
    "female_percent = female_count/player_count*100\n",
    "\n",
    "# Percentage and count of other/non-disclosed\n",
    "other_count = gender_counts['Other / Non-Disclosed']\n",
    "other_percent = other_count/player_count*100\n",
    "\n",
    "# Compiling analysis into a single table\n",
    "gender_df = pd.DataFrame([[male_count, male_percent], [female_count, female_percent], [other_count, other_percent]],index=['Male','Female','Other/Non-Disclosed'],columns=['Count','Percent'])\n",
    "gender_df"
   ]
  },
  {
   "cell_type": "markdown",
   "metadata": {},
   "source": [
    "# Purchase Analysis (Gender)"
   ]
  },
  {
   "cell_type": "code",
   "execution_count": 110,
   "metadata": {},
   "outputs": [
    {
     "data": {
      "text/html": [
       "<style  type=\"text/css\" >\n",
       "</style>  \n",
       "<table id=\"T_238464d2_101a_11e8_b0cd_3e9509432833\" > \n",
       "<thead>    <tr> \n",
       "        <th class=\"blank level0\" ></th> \n",
       "        <th class=\"col_heading level0 col0\" >Purchase Count</th> \n",
       "        <th class=\"col_heading level0 col1\" >Average Purchase Price</th> \n",
       "        <th class=\"col_heading level0 col2\" >Total Revenue</th> \n",
       "    </tr></thead> \n",
       "<tbody>    <tr> \n",
       "        <th id=\"T_238464d2_101a_11e8_b0cd_3e9509432833level0_row0\" class=\"row_heading level0 row0\" >Male</th> \n",
       "        <td id=\"T_238464d2_101a_11e8_b0cd_3e9509432833row0_col0\" class=\"data row0 col0\" >64</td> \n",
       "        <td id=\"T_238464d2_101a_11e8_b0cd_3e9509432833row0_col1\" class=\"data row0 col1\" >$ 2.88</td> \n",
       "        <td id=\"T_238464d2_101a_11e8_b0cd_3e9509432833row0_col2\" class=\"data row0 col2\" >$ 184.60</td> \n",
       "    </tr>    <tr> \n",
       "        <th id=\"T_238464d2_101a_11e8_b0cd_3e9509432833level0_row1\" class=\"row_heading level0 row1\" >Female</th> \n",
       "        <td id=\"T_238464d2_101a_11e8_b0cd_3e9509432833row1_col0\" class=\"data row1 col0\" >13</td> \n",
       "        <td id=\"T_238464d2_101a_11e8_b0cd_3e9509432833row1_col1\" class=\"data row1 col1\" >$ 3.18</td> \n",
       "        <td id=\"T_238464d2_101a_11e8_b0cd_3e9509432833row1_col2\" class=\"data row1 col2\" >$ 41.38</td> \n",
       "    </tr>    <tr> \n",
       "        <th id=\"T_238464d2_101a_11e8_b0cd_3e9509432833level0_row2\" class=\"row_heading level0 row2\" >Other/Non-Disclosed</th> \n",
       "        <td id=\"T_238464d2_101a_11e8_b0cd_3e9509432833row2_col0\" class=\"data row2 col0\" >1</td> \n",
       "        <td id=\"T_238464d2_101a_11e8_b0cd_3e9509432833row2_col1\" class=\"data row2 col1\" >$ 2.12</td> \n",
       "        <td id=\"T_238464d2_101a_11e8_b0cd_3e9509432833row2_col2\" class=\"data row2 col2\" >$ 2.12</td> \n",
       "    </tr></tbody> \n",
       "</table> "
      ],
      "text/plain": [
       "<pandas.io.formats.style.Styler at 0x24e31802630>"
      ]
     },
     "execution_count": 110,
     "metadata": {},
     "output_type": "execute_result"
    }
   ],
   "source": [
    "male_only_df = df[df['Gender']=='Male']\n",
    "female_only_df = df[df['Gender']=='Female']\n",
    "other_only_df = df[df['Gender']=='Other / Non-Disclosed']\n",
    "\n",
    "# Total Purchases\n",
    "male_purchase_count = len(male_only_df['Price'])\n",
    "female_purchase_count = len(female_only_df['Price'])\n",
    "other_purchase_count = len(other_only_df['Price'])\n",
    "\n",
    "# Average Purchase Price\n",
    "male_avg_price = male_only_df['Price'].mean()\n",
    "female_avg_price = female_only_df['Price'].mean()\n",
    "other_avg_price = other_only_df['Price'].mean()\n",
    "\n",
    "# Total Purchase Value\n",
    "male_total_purchase = male_only_df['Price'].sum()\n",
    "female_total_purchase = female_only_df['Price'].sum()\n",
    "other_total_purchase = other_only_df['Price'].sum()\n",
    "\n",
    "# Normalized Totals\n",
    "# I don't know what this means\n",
    "\n",
    "# Compiling analysis into a single table\n",
    "pa_gender_df = pd.DataFrame([[male_purchase_count, male_avg_price, male_total_purchase],\n",
    "                             [female_purchase_count, female_avg_price, female_total_purchase],\n",
    "                             [other_purchase_count, other_avg_price, other_total_purchase]],\n",
    "                             index=['Male','Female','Other/Non-Disclosed'],\n",
    "                             columns=['Purchase Count','Average Purchase Price','Total Revenue'])\n",
    "pa_gender_df = pa_gender_df.style.format({'Average Purchase Price': '$ {:,.2f}','Total Revenue': '$ {:,.2f}'})\n",
    "pa_gender_df"
   ]
  },
  {
   "cell_type": "code",
   "execution_count": null,
   "metadata": {
    "collapsed": true
   },
   "outputs": [],
   "source": []
  }
 ],
 "metadata": {
  "kernelspec": {
   "display_name": "Python 3",
   "language": "python",
   "name": "python3"
  },
  "language_info": {
   "codemirror_mode": {
    "name": "ipython",
    "version": 3
   },
   "file_extension": ".py",
   "mimetype": "text/x-python",
   "name": "python",
   "nbconvert_exporter": "python",
   "pygments_lexer": "ipython3",
   "version": "3.6.3"
  }
 },
 "nbformat": 4,
 "nbformat_minor": 2
}
