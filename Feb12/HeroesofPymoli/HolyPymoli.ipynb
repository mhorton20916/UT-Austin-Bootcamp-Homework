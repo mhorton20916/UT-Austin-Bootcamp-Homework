{
 "cells": [
  {
   "cell_type": "code",
   "execution_count": 62,
   "metadata": {
    "collapsed": true
   },
   "outputs": [],
   "source": [
    "# Importing dependencies\n",
    "import pandas as pd\n",
    "import numpy as np\n",
    "import os\n",
    "\n",
    "# Finding Files\n",
    "files = os.listdir('Resources')"
   ]
  },
  {
   "cell_type": "code",
   "execution_count": 63,
   "metadata": {
    "collapsed": true
   },
   "outputs": [],
   "source": [
    "# Change this number to call different files\n",
    "f = files[0]\n",
    "df = pd.read_json(os.path.join('Resources',f))"
   ]
  },
  {
   "cell_type": "markdown",
   "metadata": {},
   "source": [
    "# Player Count"
   ]
  },
  {
   "cell_type": "code",
   "execution_count": 64,
   "metadata": {},
   "outputs": [
    {
     "data": {
      "text/html": [
       "<div>\n",
       "<style>\n",
       "    .dataframe thead tr:only-child th {\n",
       "        text-align: right;\n",
       "    }\n",
       "\n",
       "    .dataframe thead th {\n",
       "        text-align: left;\n",
       "    }\n",
       "\n",
       "    .dataframe tbody tr th {\n",
       "        vertical-align: top;\n",
       "    }\n",
       "</style>\n",
       "<table border=\"1\" class=\"dataframe\">\n",
       "  <thead>\n",
       "    <tr style=\"text-align: right;\">\n",
       "      <th></th>\n",
       "      <th>Total Number of Players</th>\n",
       "    </tr>\n",
       "  </thead>\n",
       "  <tbody>\n",
       "    <tr>\n",
       "      <th>0</th>\n",
       "      <td>573</td>\n",
       "    </tr>\n",
       "  </tbody>\n",
       "</table>\n",
       "</div>"
      ],
      "text/plain": [
       "   Total Number of Players\n",
       "0                      573"
      ]
     },
     "execution_count": 64,
     "metadata": {},
     "output_type": "execute_result"
    }
   ],
   "source": [
    "player_count = len(df.SN.unique())\n",
    "player_count_df = pd.DataFrame(data=[player_count],columns=['Total Number of Players'])\n",
    "player_count_df"
   ]
  },
  {
   "cell_type": "markdown",
   "metadata": {},
   "source": [
    "# Purchase Analysis (Total)"
   ]
  },
  {
   "cell_type": "code",
   "execution_count": 65,
   "metadata": {},
   "outputs": [
    {
     "data": {
      "text/html": [
       "<style  type=\"text/css\" >\n",
       "</style>  \n",
       "<table id=\"T_f17b1038_1036_11e8_9dcd_3e9509432833\" > \n",
       "<thead>    <tr> \n",
       "        <th class=\"blank level0\" ></th> \n",
       "        <th class=\"col_heading level0 col0\" >Number of Unique Items</th> \n",
       "        <th class=\"col_heading level0 col1\" >Average Purchase Price</th> \n",
       "        <th class=\"col_heading level0 col2\" >Total Number of Purchases</th> \n",
       "        <th class=\"col_heading level0 col3\" >Total Revenue</th> \n",
       "    </tr></thead> \n",
       "<tbody>    <tr> \n",
       "        <th id=\"T_f17b1038_1036_11e8_9dcd_3e9509432833level0_row0\" class=\"row_heading level0 row0\" >0</th> \n",
       "        <td id=\"T_f17b1038_1036_11e8_9dcd_3e9509432833row0_col0\" class=\"data row0 col0\" >179</td> \n",
       "        <td id=\"T_f17b1038_1036_11e8_9dcd_3e9509432833row0_col1\" class=\"data row0 col1\" >$ 2.93</td> \n",
       "        <td id=\"T_f17b1038_1036_11e8_9dcd_3e9509432833row0_col2\" class=\"data row0 col2\" >780</td> \n",
       "        <td id=\"T_f17b1038_1036_11e8_9dcd_3e9509432833row0_col3\" class=\"data row0 col3\" >$ 2,286.33</td> \n",
       "    </tr></tbody> \n",
       "</table> "
      ],
      "text/plain": [
       "<pandas.io.formats.style.Styler at 0x1f9c98c4898>"
      ]
     },
     "execution_count": 65,
     "metadata": {},
     "output_type": "execute_result"
    }
   ],
   "source": [
    "# Number of unique Items\n",
    "items = df['Item Name'].unique()\n",
    "num_unique_items = len(items)\n",
    "\n",
    "# Average Purchase price\n",
    "avg_price = df['Price'].mean()\n",
    "\n",
    "# Total Number of Purchases\n",
    "total_purchases = len(df['Price'])\n",
    "\n",
    "# Total Revenue\n",
    "total_revenue = df['Price'].sum()\n",
    "\n",
    "# Compiling Analysis into a single output table\n",
    "pa_df = pd.DataFrame(data=[num_unique_items, avg_price, total_purchases, total_revenue])\n",
    "pa_df = pa_df.transpose()\n",
    "pa_df[[0,2]] = pa_df[[0,2]].astype(int)\n",
    "\n",
    "\n",
    "pa_df.rename(columns={0: 'Number of Unique Items',\n",
    "                      1: 'Average Purchase Price',\n",
    "                      2: 'Total Number of Purchases',\n",
    "                      3: 'Total Revenue'},inplace=True)\n",
    "pa_df = pa_df.style.format({'Average Purchase Price': '$ {:,.2f}','Total Revenue': '$ {:,.2f}'})\n",
    "pa_df"
   ]
  },
  {
   "cell_type": "markdown",
   "metadata": {
    "collapsed": true
   },
   "source": [
    "# Gender Demographics"
   ]
  },
  {
   "cell_type": "code",
   "execution_count": 66,
   "metadata": {},
   "outputs": [
    {
     "data": {
      "text/html": [
       "<style  type=\"text/css\" >\n",
       "</style>  \n",
       "<table id=\"T_f26725c2_1036_11e8_a62b_3e9509432833\" > \n",
       "<thead>    <tr> \n",
       "        <th class=\"blank level0\" ></th> \n",
       "        <th class=\"col_heading level0 col0\" >Count</th> \n",
       "        <th class=\"col_heading level0 col1\" >Percent</th> \n",
       "    </tr></thead> \n",
       "<tbody>    <tr> \n",
       "        <th id=\"T_f26725c2_1036_11e8_a62b_3e9509432833level0_row0\" class=\"row_heading level0 row0\" >Male</th> \n",
       "        <td id=\"T_f26725c2_1036_11e8_a62b_3e9509432833row0_col0\" class=\"data row0 col0\" >465</td> \n",
       "        <td id=\"T_f26725c2_1036_11e8_a62b_3e9509432833row0_col1\" class=\"data row0 col1\" >81.15%</td> \n",
       "    </tr>    <tr> \n",
       "        <th id=\"T_f26725c2_1036_11e8_a62b_3e9509432833level0_row1\" class=\"row_heading level0 row1\" >Female</th> \n",
       "        <td id=\"T_f26725c2_1036_11e8_a62b_3e9509432833row1_col0\" class=\"data row1 col0\" >100</td> \n",
       "        <td id=\"T_f26725c2_1036_11e8_a62b_3e9509432833row1_col1\" class=\"data row1 col1\" >17.45%</td> \n",
       "    </tr>    <tr> \n",
       "        <th id=\"T_f26725c2_1036_11e8_a62b_3e9509432833level0_row2\" class=\"row_heading level0 row2\" >Other/Non-Disclosed</th> \n",
       "        <td id=\"T_f26725c2_1036_11e8_a62b_3e9509432833row2_col0\" class=\"data row2 col0\" >8</td> \n",
       "        <td id=\"T_f26725c2_1036_11e8_a62b_3e9509432833row2_col1\" class=\"data row2 col1\" >1.40%</td> \n",
       "    </tr></tbody> \n",
       "</table> "
      ],
      "text/plain": [
       "<pandas.io.formats.style.Styler at 0x1f9c98c46a0>"
      ]
     },
     "execution_count": 66,
     "metadata": {},
     "output_type": "execute_result"
    }
   ],
   "source": [
    "unique_name_group = df.groupby(by='SN')\n",
    "gender_counts = unique_name_group['Gender'].max().value_counts()\n",
    "\n",
    "# Percentage and count of male players\n",
    "male_count = gender_counts['Male']\n",
    "male_percent = male_count/player_count*100\n",
    "\n",
    "# Percentage and count of female players\n",
    "female_count = gender_counts['Female']\n",
    "female_percent = female_count/player_count*100\n",
    "\n",
    "# Percentage and count of other/non-disclosed\n",
    "other_count = gender_counts['Other / Non-Disclosed']\n",
    "other_percent = other_count/player_count*100\n",
    "\n",
    "# Compiling analysis into a single table\n",
    "gender_df = pd.DataFrame([[male_count, male_percent], [female_count, female_percent], [other_count, other_percent]],index=['Male','Female','Other/Non-Disclosed'],columns=['Count','Percent'])\n",
    "gender_df = gender_df.style.format({'Percent': '{:,.2f}%'})\n",
    "gender_df"
   ]
  },
  {
   "cell_type": "markdown",
   "metadata": {},
   "source": [
    "# Purchase Analysis (Gender)"
   ]
  },
  {
   "cell_type": "code",
   "execution_count": 67,
   "metadata": {},
   "outputs": [
    {
     "data": {
      "text/html": [
       "<style  type=\"text/css\" >\n",
       "</style>  \n",
       "<table id=\"T_f30f7c58_1036_11e8_a5a1_3e9509432833\" > \n",
       "<thead>    <tr> \n",
       "        <th class=\"blank level0\" ></th> \n",
       "        <th class=\"col_heading level0 col0\" >Purchase Count</th> \n",
       "        <th class=\"col_heading level0 col1\" >Average Purchase Price</th> \n",
       "        <th class=\"col_heading level0 col2\" >Total Revenue</th> \n",
       "        <th class=\"col_heading level0 col3\" >Normalized Price</th> \n",
       "    </tr></thead> \n",
       "<tbody>    <tr> \n",
       "        <th id=\"T_f30f7c58_1036_11e8_a5a1_3e9509432833level0_row0\" class=\"row_heading level0 row0\" >Male</th> \n",
       "        <td id=\"T_f30f7c58_1036_11e8_a5a1_3e9509432833row0_col0\" class=\"data row0 col0\" >633</td> \n",
       "        <td id=\"T_f30f7c58_1036_11e8_a5a1_3e9509432833row0_col1\" class=\"data row0 col1\" >$ 2.95</td> \n",
       "        <td id=\"T_f30f7c58_1036_11e8_a5a1_3e9509432833row0_col2\" class=\"data row0 col2\" >$ 1,867.68</td> \n",
       "        <td id=\"T_f30f7c58_1036_11e8_a5a1_3e9509432833row0_col3\" class=\"data row0 col3\" >$ 4.02</td> \n",
       "    </tr>    <tr> \n",
       "        <th id=\"T_f30f7c58_1036_11e8_a5a1_3e9509432833level0_row1\" class=\"row_heading level0 row1\" >Female</th> \n",
       "        <td id=\"T_f30f7c58_1036_11e8_a5a1_3e9509432833row1_col0\" class=\"data row1 col0\" >136</td> \n",
       "        <td id=\"T_f30f7c58_1036_11e8_a5a1_3e9509432833row1_col1\" class=\"data row1 col1\" >$ 2.82</td> \n",
       "        <td id=\"T_f30f7c58_1036_11e8_a5a1_3e9509432833row1_col2\" class=\"data row1 col2\" >$ 382.91</td> \n",
       "        <td id=\"T_f30f7c58_1036_11e8_a5a1_3e9509432833row1_col3\" class=\"data row1 col3\" >$ 3.83</td> \n",
       "    </tr>    <tr> \n",
       "        <th id=\"T_f30f7c58_1036_11e8_a5a1_3e9509432833level0_row2\" class=\"row_heading level0 row2\" >Other/Non-Disclosed</th> \n",
       "        <td id=\"T_f30f7c58_1036_11e8_a5a1_3e9509432833row2_col0\" class=\"data row2 col0\" >11</td> \n",
       "        <td id=\"T_f30f7c58_1036_11e8_a5a1_3e9509432833row2_col1\" class=\"data row2 col1\" >$ 3.25</td> \n",
       "        <td id=\"T_f30f7c58_1036_11e8_a5a1_3e9509432833row2_col2\" class=\"data row2 col2\" >$ 35.74</td> \n",
       "        <td id=\"T_f30f7c58_1036_11e8_a5a1_3e9509432833row2_col3\" class=\"data row2 col3\" >$ 4.47</td> \n",
       "    </tr></tbody> \n",
       "</table> "
      ],
      "text/plain": [
       "<pandas.io.formats.style.Styler at 0x1f9c98c4b00>"
      ]
     },
     "execution_count": 67,
     "metadata": {},
     "output_type": "execute_result"
    }
   ],
   "source": [
    "male_only_df = df[df['Gender']=='Male']\n",
    "female_only_df = df[df['Gender']=='Female']\n",
    "other_only_df = df[df['Gender']=='Other / Non-Disclosed']\n",
    "\n",
    "# Total Purchases\n",
    "male_purchase_count = len(male_only_df['Price'])\n",
    "female_purchase_count = len(female_only_df['Price'])\n",
    "other_purchase_count = len(other_only_df['Price'])\n",
    "\n",
    "# Average Purchase Price\n",
    "male_avg_price = male_only_df['Price'].mean()\n",
    "female_avg_price = female_only_df['Price'].mean()\n",
    "other_avg_price = other_only_df['Price'].mean()\n",
    "\n",
    "# Total Purchase Value\n",
    "male_total_purchase = male_only_df['Price'].sum()\n",
    "female_total_purchase = female_only_df['Price'].sum()\n",
    "other_total_purchase = other_only_df['Price'].sum()\n",
    "\n",
    "# Normalized Totals\n",
    "male_avg_price_norm = male_total_purchase/male_count\n",
    "female_avg_price_norm = female_total_purchase/female_count\n",
    "other_avg_price_norm = other_total_purchase/other_count\n",
    "\n",
    "# Compiling analysis into a single table\n",
    "pa_gender_df = pd.DataFrame([[male_purchase_count, male_avg_price, male_total_purchase, male_avg_price_norm],\n",
    "                             [female_purchase_count, female_avg_price, female_total_purchase, female_avg_price_norm],\n",
    "                             [other_purchase_count, other_avg_price, other_total_purchase, other_avg_price_norm]],\n",
    "                             index=['Male','Female','Other/Non-Disclosed'],\n",
    "                             columns=['Purchase Count','Average Purchase Price','Total Revenue','Normalized Price'])\n",
    "pa_gender_df = pa_gender_df.style.format({'Average Purchase Price': '$ {:,.2f}','Total Revenue': '$ {:,.2f}','Normalized Price': '$ {:,.2f}'})\n",
    "pa_gender_df"
   ]
  },
  {
   "cell_type": "markdown",
   "metadata": {},
   "source": [
    "# Age Demographics"
   ]
  },
  {
   "cell_type": "code",
   "execution_count": 68,
   "metadata": {},
   "outputs": [
    {
     "data": {
      "text/html": [
       "<style  type=\"text/css\" >\n",
       "</style>  \n",
       "<table id=\"T_f3ddeea4_1036_11e8_9c2b_3e9509432833\" > \n",
       "<thead>    <tr> \n",
       "        <th class=\"blank level0\" ></th> \n",
       "        <th class=\"col_heading level0 col0\" >Purchase Count</th> \n",
       "        <th class=\"col_heading level0 col1\" >Average Purchase Price</th> \n",
       "        <th class=\"col_heading level0 col2\" >Total Revenue</th> \n",
       "        <th class=\"col_heading level0 col3\" >Normalized Price</th> \n",
       "    </tr></thead> \n",
       "<tbody>    <tr> \n",
       "        <th id=\"T_f3ddeea4_1036_11e8_9c2b_3e9509432833level0_row0\" class=\"row_heading level0 row0\" ><10</th> \n",
       "        <td id=\"T_f3ddeea4_1036_11e8_9c2b_3e9509432833row0_col0\" class=\"data row0 col0\" >28</td> \n",
       "        <td id=\"T_f3ddeea4_1036_11e8_9c2b_3e9509432833row0_col1\" class=\"data row0 col1\" >$ 2.98</td> \n",
       "        <td id=\"T_f3ddeea4_1036_11e8_9c2b_3e9509432833row0_col2\" class=\"data row0 col2\" >$ 83.46</td> \n",
       "        <td id=\"T_f3ddeea4_1036_11e8_9c2b_3e9509432833row0_col3\" class=\"data row0 col3\" >$ 4.39</td> \n",
       "    </tr>    <tr> \n",
       "        <th id=\"T_f3ddeea4_1036_11e8_9c2b_3e9509432833level0_row1\" class=\"row_heading level0 row1\" >10-14</th> \n",
       "        <td id=\"T_f3ddeea4_1036_11e8_9c2b_3e9509432833row1_col0\" class=\"data row1 col0\" >35</td> \n",
       "        <td id=\"T_f3ddeea4_1036_11e8_9c2b_3e9509432833row1_col1\" class=\"data row1 col1\" >$ 2.77</td> \n",
       "        <td id=\"T_f3ddeea4_1036_11e8_9c2b_3e9509432833row1_col2\" class=\"data row1 col2\" >$ 96.95</td> \n",
       "        <td id=\"T_f3ddeea4_1036_11e8_9c2b_3e9509432833row1_col3\" class=\"data row1 col3\" >$ 4.22</td> \n",
       "    </tr>    <tr> \n",
       "        <th id=\"T_f3ddeea4_1036_11e8_9c2b_3e9509432833level0_row2\" class=\"row_heading level0 row2\" >15-19</th> \n",
       "        <td id=\"T_f3ddeea4_1036_11e8_9c2b_3e9509432833row2_col0\" class=\"data row2 col0\" >133</td> \n",
       "        <td id=\"T_f3ddeea4_1036_11e8_9c2b_3e9509432833row2_col1\" class=\"data row2 col1\" >$ 2.91</td> \n",
       "        <td id=\"T_f3ddeea4_1036_11e8_9c2b_3e9509432833row2_col2\" class=\"data row2 col2\" >$ 386.42</td> \n",
       "        <td id=\"T_f3ddeea4_1036_11e8_9c2b_3e9509432833row2_col3\" class=\"data row2 col3\" >$ 3.86</td> \n",
       "    </tr>    <tr> \n",
       "        <th id=\"T_f3ddeea4_1036_11e8_9c2b_3e9509432833level0_row3\" class=\"row_heading level0 row3\" >20-24</th> \n",
       "        <td id=\"T_f3ddeea4_1036_11e8_9c2b_3e9509432833row3_col0\" class=\"data row3 col0\" >336</td> \n",
       "        <td id=\"T_f3ddeea4_1036_11e8_9c2b_3e9509432833row3_col1\" class=\"data row3 col1\" >$ 2.91</td> \n",
       "        <td id=\"T_f3ddeea4_1036_11e8_9c2b_3e9509432833row3_col2\" class=\"data row3 col2\" >$ 978.77</td> \n",
       "        <td id=\"T_f3ddeea4_1036_11e8_9c2b_3e9509432833row3_col3\" class=\"data row3 col3\" >$ 3.78</td> \n",
       "    </tr>    <tr> \n",
       "        <th id=\"T_f3ddeea4_1036_11e8_9c2b_3e9509432833level0_row4\" class=\"row_heading level0 row4\" >25-29</th> \n",
       "        <td id=\"T_f3ddeea4_1036_11e8_9c2b_3e9509432833row4_col0\" class=\"data row4 col0\" >125</td> \n",
       "        <td id=\"T_f3ddeea4_1036_11e8_9c2b_3e9509432833row4_col1\" class=\"data row4 col1\" >$ 2.96</td> \n",
       "        <td id=\"T_f3ddeea4_1036_11e8_9c2b_3e9509432833row4_col2\" class=\"data row4 col2\" >$ 370.33</td> \n",
       "        <td id=\"T_f3ddeea4_1036_11e8_9c2b_3e9509432833row4_col3\" class=\"data row4 col3\" >$ 4.26</td> \n",
       "    </tr>    <tr> \n",
       "        <th id=\"T_f3ddeea4_1036_11e8_9c2b_3e9509432833level0_row5\" class=\"row_heading level0 row5\" >30-34</th> \n",
       "        <td id=\"T_f3ddeea4_1036_11e8_9c2b_3e9509432833row5_col0\" class=\"data row5 col0\" >64</td> \n",
       "        <td id=\"T_f3ddeea4_1036_11e8_9c2b_3e9509432833row5_col1\" class=\"data row5 col1\" >$ 3.08</td> \n",
       "        <td id=\"T_f3ddeea4_1036_11e8_9c2b_3e9509432833row5_col2\" class=\"data row5 col2\" >$ 197.25</td> \n",
       "        <td id=\"T_f3ddeea4_1036_11e8_9c2b_3e9509432833row5_col3\" class=\"data row5 col3\" >$ 4.20</td> \n",
       "    </tr>    <tr> \n",
       "        <th id=\"T_f3ddeea4_1036_11e8_9c2b_3e9509432833level0_row6\" class=\"row_heading level0 row6\" >35-39</th> \n",
       "        <td id=\"T_f3ddeea4_1036_11e8_9c2b_3e9509432833row6_col0\" class=\"data row6 col0\" >42</td> \n",
       "        <td id=\"T_f3ddeea4_1036_11e8_9c2b_3e9509432833row6_col1\" class=\"data row6 col1\" >$ 2.84</td> \n",
       "        <td id=\"T_f3ddeea4_1036_11e8_9c2b_3e9509432833row6_col2\" class=\"data row6 col2\" >$ 119.40</td> \n",
       "        <td id=\"T_f3ddeea4_1036_11e8_9c2b_3e9509432833row6_col3\" class=\"data row6 col3\" >$ 4.42</td> \n",
       "    </tr>    <tr> \n",
       "        <th id=\"T_f3ddeea4_1036_11e8_9c2b_3e9509432833level0_row7\" class=\"row_heading level0 row7\" >+40</th> \n",
       "        <td id=\"T_f3ddeea4_1036_11e8_9c2b_3e9509432833row7_col0\" class=\"data row7 col0\" >17</td> \n",
       "        <td id=\"T_f3ddeea4_1036_11e8_9c2b_3e9509432833row7_col1\" class=\"data row7 col1\" >$ 3.16</td> \n",
       "        <td id=\"T_f3ddeea4_1036_11e8_9c2b_3e9509432833row7_col2\" class=\"data row7 col2\" >$ 53.75</td> \n",
       "        <td id=\"T_f3ddeea4_1036_11e8_9c2b_3e9509432833row7_col3\" class=\"data row7 col3\" >$ 4.89</td> \n",
       "    </tr></tbody> \n",
       "</table> "
      ],
      "text/plain": [
       "<pandas.io.formats.style.Styler at 0x1f9c9435e80>"
      ]
     },
     "execution_count": 68,
     "metadata": {},
     "output_type": "execute_result"
    }
   ],
   "source": [
    "# The following code works for any age range, but is weak against outliers.  Will hard code bins so the data works with all files\n",
    "\n",
    "#bins = [10+5*i for i in range(int(np.floor((df['Age'].max()-5)/5)))]\n",
    "#labels = [str(10+5*i)+'-'+str(9+5*(i+1)) for i in range(len(bins))]\n",
    "#bins = [0]+bins\n",
    "#labels = ['<10']+labels\n",
    "\n",
    "bins = [9+5*i for i in range(7)]\n",
    "bins = [0]+bins+[150]\n",
    "labels = ['<10','10-14','15-19','20-24','25-29','30-34','35-39','+40']\n",
    "bin_series = pd.cut(df['Age'],bins = bins, labels=labels)\n",
    "\n",
    "# Creating a new df to match up to bins\n",
    "df_with_bins = df\n",
    "df_with_bins['Bins'] = bin_series\n",
    "\n",
    "# Total Purchases\n",
    "bin_df = pd.DataFrame(bin_series.value_counts())\n",
    "bin_df.sort_index(inplace=True)\n",
    "bin_df.rename(columns={'Age':'Purchase Count'},inplace=True)\n",
    "\n",
    "# Average Purchase Price\n",
    "under_ten_avg_price = df_with_bins['Price'][df_with_bins['Bins']=='<10'].mean()\n",
    "ten2fourteen_avg_price = df_with_bins['Price'][df_with_bins['Bins']=='10-14'].mean()\n",
    "fifteen2nineteen_avg_price = df_with_bins['Price'][df_with_bins['Bins']=='15-19'].mean()\n",
    "twenty2twentyfour_avg_price = df_with_bins['Price'][df_with_bins['Bins']=='20-24'].mean()\n",
    "twentyfive2twentynine_avg_price = df_with_bins['Price'][df_with_bins['Bins']=='25-29'].mean()\n",
    "thirty2thirtyfour_avg_price = df_with_bins['Price'][df_with_bins['Bins']=='30-34'].mean()\n",
    "thirtyfive2thirtynine_avg_price = df_with_bins['Price'][df_with_bins['Bins']=='35-39'].mean()\n",
    "over_fourty_avg_price = df_with_bins['Price'][df_with_bins['Bins']=='+40'].mean()\n",
    "\n",
    "# Total Purchase Value\n",
    "under_ten_total_price = df_with_bins['Price'][df_with_bins['Bins']=='<10'].sum()\n",
    "ten2fourteen_total_price = df_with_bins['Price'][df_with_bins['Bins']=='10-14'].sum()\n",
    "fifteen2nineteen_total_price = df_with_bins['Price'][df_with_bins['Bins']=='15-19'].sum()\n",
    "twenty2twentyfour_total_price = df_with_bins['Price'][df_with_bins['Bins']=='20-24'].sum()\n",
    "twentyfive2twentynine_total_price = df_with_bins['Price'][df_with_bins['Bins']=='25-29'].sum()\n",
    "thirty2thirtyfour_total_price = df_with_bins['Price'][df_with_bins['Bins']=='30-34'].sum()\n",
    "thirtyfive2thirtynine_total_price = df_with_bins['Price'][df_with_bins['Bins']=='35-39'].sum()\n",
    "over_fourty_total_price = df_with_bins['Price'][df_with_bins['Bins']=='+40'].sum()\n",
    "\n",
    "# Normalized Prices\n",
    "players_by_bin = unique_name_group_with_bins['Bins'].max().value_counts()\n",
    "player_count_by_age=list()\n",
    "for age_range in labels:\n",
    "    player_count_by_age.append(players_by_bin[age_range])\n",
    "total_revenue = np.array([under_ten_total_price,\n",
    "                ten2fourteen_total_price,\n",
    "                fifteen2nineteen_total_price,\n",
    "                twenty2twentyfour_total_price,\n",
    "                twentyfive2twentynine_total_price,\n",
    "                thirty2thirtyfour_total_price,\n",
    "                thirtyfive2thirtynine_total_price,\n",
    "                over_fourty_total_price])\n",
    "player_count_by_age = np.array(player_count_by_age)\n",
    "normalized_values = total_revenue/player_count_by_age\n",
    "\n",
    "# Compiling analysis into a single table\n",
    "bin_df['Average Purchase Price'] = [under_ten_avg_price,\n",
    "                                    ten2fourteen_avg_price,\n",
    "                                    fifteen2nineteen_avg_price,\n",
    "                                    twenty2twentyfour_avg_price,\n",
    "                                    twentyfive2twentynine_avg_price,\n",
    "                                    thirty2thirtyfour_avg_price,\n",
    "                                    thirtyfive2thirtynine_avg_price,\n",
    "                                    over_fourty_avg_price]\n",
    "\n",
    "bin_df['Total Revenue'] = total_revenue\n",
    "bin_df['Normalized Price'] = normalized_values\n",
    "bin_df = bin_df.style.format({'Average Purchase Price': '$ {:,.2f}','Total Revenue': '$ {:,.2f}','Normalized Price': '$ {:,.2f}'})\n",
    "bin_df"
   ]
  },
  {
   "cell_type": "markdown",
   "metadata": {},
   "source": [
    "# Top Spenders"
   ]
  },
  {
   "cell_type": "code",
   "execution_count": 69,
   "metadata": {},
   "outputs": [
    {
     "data": {
      "text/html": [
       "<style  type=\"text/css\" >\n",
       "</style>  \n",
       "<table id=\"T_f4fcc6ac_1036_11e8_966c_3e9509432833\" > \n",
       "<thead>    <tr> \n",
       "        <th class=\"blank level0\" ></th> \n",
       "        <th class=\"col_heading level0 col0\" >SN</th> \n",
       "        <th class=\"col_heading level0 col1\" >Total Revenue</th> \n",
       "        <th class=\"col_heading level0 col2\" >Purchase Count</th> \n",
       "        <th class=\"col_heading level0 col3\" >Average Purchase Price</th> \n",
       "    </tr></thead> \n",
       "<tbody>    <tr> \n",
       "        <th id=\"T_f4fcc6ac_1036_11e8_966c_3e9509432833level0_row0\" class=\"row_heading level0 row0\" >0</th> \n",
       "        <td id=\"T_f4fcc6ac_1036_11e8_966c_3e9509432833row0_col0\" class=\"data row0 col0\" >Undirrala66</td> \n",
       "        <td id=\"T_f4fcc6ac_1036_11e8_966c_3e9509432833row0_col1\" class=\"data row0 col1\" >$ 17.06</td> \n",
       "        <td id=\"T_f4fcc6ac_1036_11e8_966c_3e9509432833row0_col2\" class=\"data row0 col2\" >5</td> \n",
       "        <td id=\"T_f4fcc6ac_1036_11e8_966c_3e9509432833row0_col3\" class=\"data row0 col3\" >$ 3.41</td> \n",
       "    </tr>    <tr> \n",
       "        <th id=\"T_f4fcc6ac_1036_11e8_966c_3e9509432833level0_row1\" class=\"row_heading level0 row1\" >1</th> \n",
       "        <td id=\"T_f4fcc6ac_1036_11e8_966c_3e9509432833row1_col0\" class=\"data row1 col0\" >Saedue76</td> \n",
       "        <td id=\"T_f4fcc6ac_1036_11e8_966c_3e9509432833row1_col1\" class=\"data row1 col1\" >$ 13.56</td> \n",
       "        <td id=\"T_f4fcc6ac_1036_11e8_966c_3e9509432833row1_col2\" class=\"data row1 col2\" >4</td> \n",
       "        <td id=\"T_f4fcc6ac_1036_11e8_966c_3e9509432833row1_col3\" class=\"data row1 col3\" >$ 3.39</td> \n",
       "    </tr>    <tr> \n",
       "        <th id=\"T_f4fcc6ac_1036_11e8_966c_3e9509432833level0_row2\" class=\"row_heading level0 row2\" >2</th> \n",
       "        <td id=\"T_f4fcc6ac_1036_11e8_966c_3e9509432833row2_col0\" class=\"data row2 col0\" >Mindimnya67</td> \n",
       "        <td id=\"T_f4fcc6ac_1036_11e8_966c_3e9509432833row2_col1\" class=\"data row2 col1\" >$ 12.74</td> \n",
       "        <td id=\"T_f4fcc6ac_1036_11e8_966c_3e9509432833row2_col2\" class=\"data row2 col2\" >4</td> \n",
       "        <td id=\"T_f4fcc6ac_1036_11e8_966c_3e9509432833row2_col3\" class=\"data row2 col3\" >$ 3.18</td> \n",
       "    </tr>    <tr> \n",
       "        <th id=\"T_f4fcc6ac_1036_11e8_966c_3e9509432833level0_row3\" class=\"row_heading level0 row3\" >3</th> \n",
       "        <td id=\"T_f4fcc6ac_1036_11e8_966c_3e9509432833row3_col0\" class=\"data row3 col0\" >Haellysu29</td> \n",
       "        <td id=\"T_f4fcc6ac_1036_11e8_966c_3e9509432833row3_col1\" class=\"data row3 col1\" >$ 12.73</td> \n",
       "        <td id=\"T_f4fcc6ac_1036_11e8_966c_3e9509432833row3_col2\" class=\"data row3 col2\" >3</td> \n",
       "        <td id=\"T_f4fcc6ac_1036_11e8_966c_3e9509432833row3_col3\" class=\"data row3 col3\" >$ 4.24</td> \n",
       "    </tr>    <tr> \n",
       "        <th id=\"T_f4fcc6ac_1036_11e8_966c_3e9509432833level0_row4\" class=\"row_heading level0 row4\" >4</th> \n",
       "        <td id=\"T_f4fcc6ac_1036_11e8_966c_3e9509432833row4_col0\" class=\"data row4 col0\" >Eoda93</td> \n",
       "        <td id=\"T_f4fcc6ac_1036_11e8_966c_3e9509432833row4_col1\" class=\"data row4 col1\" >$ 11.58</td> \n",
       "        <td id=\"T_f4fcc6ac_1036_11e8_966c_3e9509432833row4_col2\" class=\"data row4 col2\" >3</td> \n",
       "        <td id=\"T_f4fcc6ac_1036_11e8_966c_3e9509432833row4_col3\" class=\"data row4 col3\" >$ 3.86</td> \n",
       "    </tr></tbody> \n",
       "</table> "
      ],
      "text/plain": [
       "<pandas.io.formats.style.Styler at 0x1f9c98c4860>"
      ]
     },
     "execution_count": 69,
     "metadata": {},
     "output_type": "execute_result"
    }
   ],
   "source": [
    "# Find and sort by total revenue\n",
    "df_group_name = df.groupby(by='SN')\n",
    "df_by_spending = pd.DataFrame(df_group_name['Price'].sum().sort_values(ascending=False))\n",
    "df_by_spending.rename(columns={'Price':'Total Revenue'},inplace=True)\n",
    "df_by_spending.reset_index(inplace=True)\n",
    "\n",
    "# Find purchase count of top five\n",
    "first_spender_purchase_count = df_group_name['Price'].count()[df_by_spending['SN'][0]]\n",
    "second_spender_purchase_count = df_group_name['Price'].count()[df_by_spending['SN'][1]]\n",
    "third_spender_purchase_count = df_group_name['Price'].count()[df_by_spending['SN'][2]]\n",
    "fourth_spender_purchase_count = df_group_name['Price'].count()[df_by_spending['SN'][3]]\n",
    "fifth_spender_purchase_count = df_group_name['Price'].count()[df_by_spending['SN'][4]]\n",
    "\n",
    "# Find Average purchase price of top five\n",
    "first_spender_avg_purchase = df_group_name['Price'].mean()[df_by_spending['SN'][0]]\n",
    "second_spender_avg_purchase = df_group_name['Price'].mean()[df_by_spending['SN'][1]]\n",
    "third_spender_avg_purchase = df_group_name['Price'].mean()[df_by_spending['SN'][2]]\n",
    "fourth_spender_avg_purchase = df_group_name['Price'].mean()[df_by_spending['SN'][3]]\n",
    "fifth_spender_avg_purchase = df_group_name['Price'].mean()[df_by_spending['SN'][4]]\n",
    "\n",
    "# Compiling analysis into a single table\n",
    "top_spenders_df = pd.DataFrame(df_by_spending[:5])\n",
    "top_spenders_df['Purchase Count'] = [first_spender_purchase_count,\n",
    "                                    second_spender_purchase_count,\n",
    "                                    third_spender_purchase_count,\n",
    "                                    fourth_spender_purchase_count,\n",
    "                                    fifth_spender_purchase_count]\n",
    "top_spenders_df['Average Purchase Price'] = [first_spender_avg_purchase,\n",
    "                                            second_spender_avg_purchase,\n",
    "                                            third_spender_avg_purchase,\n",
    "                                            fourth_spender_avg_purchase,\n",
    "                                            fifth_spender_avg_purchase]\n",
    "top_spenders_df = top_spenders_df.style.format({'Average Purchase Price': '$ {:,.2f}','Total Revenue': '$ {:,.2f}'})\n",
    "top_spenders_df"
   ]
  },
  {
   "cell_type": "markdown",
   "metadata": {},
   "source": [
    "# Most Popular Items"
   ]
  },
  {
   "cell_type": "code",
   "execution_count": 70,
   "metadata": {},
   "outputs": [
    {
     "data": {
      "text/html": [
       "<style  type=\"text/css\" >\n",
       "</style>  \n",
       "<table id=\"T_f5982912_1036_11e8_b81d_3e9509432833\" > \n",
       "<thead>    <tr> \n",
       "        <th class=\"blank level0\" ></th> \n",
       "        <th class=\"col_heading level0 col0\" >Item Name</th> \n",
       "        <th class=\"col_heading level0 col1\" >Purchase Count</th> \n",
       "        <th class=\"col_heading level0 col2\" >Item ID</th> \n",
       "        <th class=\"col_heading level0 col3\" >Item Price</th> \n",
       "        <th class=\"col_heading level0 col4\" >Total Revenue</th> \n",
       "    </tr></thead> \n",
       "<tbody>    <tr> \n",
       "        <th id=\"T_f5982912_1036_11e8_b81d_3e9509432833level0_row0\" class=\"row_heading level0 row0\" >0</th> \n",
       "        <td id=\"T_f5982912_1036_11e8_b81d_3e9509432833row0_col0\" class=\"data row0 col0\" >Final Critic</td> \n",
       "        <td id=\"T_f5982912_1036_11e8_b81d_3e9509432833row0_col1\" class=\"data row0 col1\" >14</td> \n",
       "        <td id=\"T_f5982912_1036_11e8_b81d_3e9509432833row0_col2\" class=\"data row0 col2\" >92</td> \n",
       "        <td id=\"T_f5982912_1036_11e8_b81d_3e9509432833row0_col3\" class=\"data row0 col3\" >$ 1.36</td> \n",
       "        <td id=\"T_f5982912_1036_11e8_b81d_3e9509432833row0_col4\" class=\"data row0 col4\" >$ 19.04</td> \n",
       "    </tr>    <tr> \n",
       "        <th id=\"T_f5982912_1036_11e8_b81d_3e9509432833level0_row1\" class=\"row_heading level0 row1\" >1</th> \n",
       "        <td id=\"T_f5982912_1036_11e8_b81d_3e9509432833row1_col0\" class=\"data row1 col0\" >Betrayal, Whisper of Grieving Widows</td> \n",
       "        <td id=\"T_f5982912_1036_11e8_b81d_3e9509432833row1_col1\" class=\"data row1 col1\" >11</td> \n",
       "        <td id=\"T_f5982912_1036_11e8_b81d_3e9509432833row1_col2\" class=\"data row1 col2\" >39</td> \n",
       "        <td id=\"T_f5982912_1036_11e8_b81d_3e9509432833row1_col3\" class=\"data row1 col3\" >$ 2.35</td> \n",
       "        <td id=\"T_f5982912_1036_11e8_b81d_3e9509432833row1_col4\" class=\"data row1 col4\" >$ 25.85</td> \n",
       "    </tr>    <tr> \n",
       "        <th id=\"T_f5982912_1036_11e8_b81d_3e9509432833level0_row2\" class=\"row_heading level0 row2\" >2</th> \n",
       "        <td id=\"T_f5982912_1036_11e8_b81d_3e9509432833row2_col0\" class=\"data row2 col0\" >Arcane Gem</td> \n",
       "        <td id=\"T_f5982912_1036_11e8_b81d_3e9509432833row2_col1\" class=\"data row2 col1\" >11</td> \n",
       "        <td id=\"T_f5982912_1036_11e8_b81d_3e9509432833row2_col2\" class=\"data row2 col2\" >84</td> \n",
       "        <td id=\"T_f5982912_1036_11e8_b81d_3e9509432833row2_col3\" class=\"data row2 col3\" >$ 2.23</td> \n",
       "        <td id=\"T_f5982912_1036_11e8_b81d_3e9509432833row2_col4\" class=\"data row2 col4\" >$ 24.53</td> \n",
       "    </tr>    <tr> \n",
       "        <th id=\"T_f5982912_1036_11e8_b81d_3e9509432833level0_row3\" class=\"row_heading level0 row3\" >3</th> \n",
       "        <td id=\"T_f5982912_1036_11e8_b81d_3e9509432833row3_col0\" class=\"data row3 col0\" >Stormcaller</td> \n",
       "        <td id=\"T_f5982912_1036_11e8_b81d_3e9509432833row3_col1\" class=\"data row3 col1\" >10</td> \n",
       "        <td id=\"T_f5982912_1036_11e8_b81d_3e9509432833row3_col2\" class=\"data row3 col2\" >30</td> \n",
       "        <td id=\"T_f5982912_1036_11e8_b81d_3e9509432833row3_col3\" class=\"data row3 col3\" >$ 4.15</td> \n",
       "        <td id=\"T_f5982912_1036_11e8_b81d_3e9509432833row3_col4\" class=\"data row3 col4\" >$ 41.50</td> \n",
       "    </tr>    <tr> \n",
       "        <th id=\"T_f5982912_1036_11e8_b81d_3e9509432833level0_row4\" class=\"row_heading level0 row4\" >4</th> \n",
       "        <td id=\"T_f5982912_1036_11e8_b81d_3e9509432833row4_col0\" class=\"data row4 col0\" >Woeful Adamantite Claymore</td> \n",
       "        <td id=\"T_f5982912_1036_11e8_b81d_3e9509432833row4_col1\" class=\"data row4 col1\" >9</td> \n",
       "        <td id=\"T_f5982912_1036_11e8_b81d_3e9509432833row4_col2\" class=\"data row4 col2\" >175</td> \n",
       "        <td id=\"T_f5982912_1036_11e8_b81d_3e9509432833row4_col3\" class=\"data row4 col3\" >$ 1.24</td> \n",
       "        <td id=\"T_f5982912_1036_11e8_b81d_3e9509432833row4_col4\" class=\"data row4 col4\" >$ 11.16</td> \n",
       "    </tr></tbody> \n",
       "</table> "
      ],
      "text/plain": [
       "<pandas.io.formats.style.Styler at 0x1f9c934f128>"
      ]
     },
     "execution_count": 70,
     "metadata": {},
     "output_type": "execute_result"
    }
   ],
   "source": [
    "df_group_itemname = df.groupby(by='Item Name')\n",
    "df_by_pop_items = pd.DataFrame(df_group_itemname['Price'].count().sort_values(ascending=False))\n",
    "df_by_pop_items.rename(columns={'Price':'Purchase Count'},inplace=True)\n",
    "df_by_pop_items.reset_index(inplace=True)\n",
    "\n",
    "# Find Item IDs and Price\n",
    "most_pop_itemNames = df_by_pop_items['Item Name'][0:5]\n",
    "most_pop_itemIDs = list()\n",
    "most_pop_itemPrice = list()\n",
    "for item in most_pop_itemNames:\n",
    "    for item_iter in range(len(df['Item Name'])):\n",
    "        if df['Item Name'][item_iter]==item:\n",
    "            most_pop_itemIDs.append(df['Item ID'][item_iter])\n",
    "            most_pop_itemPrice.append(df['Price'][item_iter])\n",
    "            break\n",
    "\n",
    "# Find Total Purchase Value\n",
    "most_pop_totalPurchaseValue = list()\n",
    "for i in range(5):\n",
    "    count = df_by_pop_items['Purchase Count'][i]\n",
    "    most_pop_totalPurchaseValue.append(count*most_pop_itemPrice[i])\n",
    "\n",
    "# Compiling analysis into a single table\n",
    "pop_items_df = pd.DataFrame(df_by_pop_items[:5])\n",
    "pop_items_df['Item ID'] = most_pop_itemIDs\n",
    "pop_items_df['Item Price'] = most_pop_itemPrice\n",
    "pop_items_df['Total Revenue'] = most_pop_totalPurchaseValue\n",
    "\n",
    "pop_items_df = pop_items_df.style.format({'Item Price': '$ {:,.2f}','Total Revenue': '$ {:,.2f}'})\n",
    "pop_items_df"
   ]
  },
  {
   "cell_type": "markdown",
   "metadata": {},
   "source": [
    "# Most Profitable Items"
   ]
  },
  {
   "cell_type": "code",
   "execution_count": 71,
   "metadata": {},
   "outputs": [
    {
     "data": {
      "text/html": [
       "<style  type=\"text/css\" >\n",
       "</style>  \n",
       "<table id=\"T_f911c8f4_1036_11e8_938d_3e9509432833\" > \n",
       "<thead>    <tr> \n",
       "        <th class=\"blank level0\" ></th> \n",
       "        <th class=\"col_heading level0 col0\" >Item Name</th> \n",
       "        <th class=\"col_heading level0 col1\" >Purchase Count</th> \n",
       "        <th class=\"col_heading level0 col2\" >Item ID</th> \n",
       "        <th class=\"col_heading level0 col3\" >Price</th> \n",
       "        <th class=\"col_heading level0 col4\" >Total Revenue</th> \n",
       "    </tr></thead> \n",
       "<tbody>    <tr> \n",
       "        <th id=\"T_f911c8f4_1036_11e8_938d_3e9509432833level0_row0\" class=\"row_heading level0 row0\" >0</th> \n",
       "        <td id=\"T_f911c8f4_1036_11e8_938d_3e9509432833row0_col0\" class=\"data row0 col0\" >Stormcaller</td> \n",
       "        <td id=\"T_f911c8f4_1036_11e8_938d_3e9509432833row0_col1\" class=\"data row0 col1\" >10</td> \n",
       "        <td id=\"T_f911c8f4_1036_11e8_938d_3e9509432833row0_col2\" class=\"data row0 col2\" >30</td> \n",
       "        <td id=\"T_f911c8f4_1036_11e8_938d_3e9509432833row0_col3\" class=\"data row0 col3\" >$ 4.15</td> \n",
       "        <td id=\"T_f911c8f4_1036_11e8_938d_3e9509432833row0_col4\" class=\"data row0 col4\" >$ 41.50</td> \n",
       "    </tr>    <tr> \n",
       "        <th id=\"T_f911c8f4_1036_11e8_938d_3e9509432833level0_row1\" class=\"row_heading level0 row1\" >1</th> \n",
       "        <td id=\"T_f911c8f4_1036_11e8_938d_3e9509432833row1_col0\" class=\"data row1 col0\" >Retribution Axe</td> \n",
       "        <td id=\"T_f911c8f4_1036_11e8_938d_3e9509432833row1_col1\" class=\"data row1 col1\" >9</td> \n",
       "        <td id=\"T_f911c8f4_1036_11e8_938d_3e9509432833row1_col2\" class=\"data row1 col2\" >34</td> \n",
       "        <td id=\"T_f911c8f4_1036_11e8_938d_3e9509432833row1_col3\" class=\"data row1 col3\" >$ 4.14</td> \n",
       "        <td id=\"T_f911c8f4_1036_11e8_938d_3e9509432833row1_col4\" class=\"data row1 col4\" >$ 37.26</td> \n",
       "    </tr>    <tr> \n",
       "        <th id=\"T_f911c8f4_1036_11e8_938d_3e9509432833level0_row2\" class=\"row_heading level0 row2\" >2</th> \n",
       "        <td id=\"T_f911c8f4_1036_11e8_938d_3e9509432833row2_col0\" class=\"data row2 col0\" >Spectral Diamond Doomblade</td> \n",
       "        <td id=\"T_f911c8f4_1036_11e8_938d_3e9509432833row2_col1\" class=\"data row2 col1\" >7</td> \n",
       "        <td id=\"T_f911c8f4_1036_11e8_938d_3e9509432833row2_col2\" class=\"data row2 col2\" >115</td> \n",
       "        <td id=\"T_f911c8f4_1036_11e8_938d_3e9509432833row2_col3\" class=\"data row2 col3\" >$ 4.25</td> \n",
       "        <td id=\"T_f911c8f4_1036_11e8_938d_3e9509432833row2_col4\" class=\"data row2 col4\" >$ 29.75</td> \n",
       "    </tr>    <tr> \n",
       "        <th id=\"T_f911c8f4_1036_11e8_938d_3e9509432833level0_row3\" class=\"row_heading level0 row3\" >3</th> \n",
       "        <td id=\"T_f911c8f4_1036_11e8_938d_3e9509432833row3_col0\" class=\"data row3 col0\" >Orenmir</td> \n",
       "        <td id=\"T_f911c8f4_1036_11e8_938d_3e9509432833row3_col1\" class=\"data row3 col1\" >6</td> \n",
       "        <td id=\"T_f911c8f4_1036_11e8_938d_3e9509432833row3_col2\" class=\"data row3 col2\" >32</td> \n",
       "        <td id=\"T_f911c8f4_1036_11e8_938d_3e9509432833row3_col3\" class=\"data row3 col3\" >$ 4.95</td> \n",
       "        <td id=\"T_f911c8f4_1036_11e8_938d_3e9509432833row3_col4\" class=\"data row3 col4\" >$ 29.70</td> \n",
       "    </tr>    <tr> \n",
       "        <th id=\"T_f911c8f4_1036_11e8_938d_3e9509432833level0_row4\" class=\"row_heading level0 row4\" >4</th> \n",
       "        <td id=\"T_f911c8f4_1036_11e8_938d_3e9509432833row4_col0\" class=\"data row4 col0\" >Singed Scalpel</td> \n",
       "        <td id=\"T_f911c8f4_1036_11e8_938d_3e9509432833row4_col1\" class=\"data row4 col1\" >6</td> \n",
       "        <td id=\"T_f911c8f4_1036_11e8_938d_3e9509432833row4_col2\" class=\"data row4 col2\" >103</td> \n",
       "        <td id=\"T_f911c8f4_1036_11e8_938d_3e9509432833row4_col3\" class=\"data row4 col3\" >$ 4.87</td> \n",
       "        <td id=\"T_f911c8f4_1036_11e8_938d_3e9509432833row4_col4\" class=\"data row4 col4\" >$ 29.22</td> \n",
       "    </tr></tbody> \n",
       "</table> "
      ],
      "text/plain": [
       "<pandas.io.formats.style.Styler at 0x1f9c93779b0>"
      ]
     },
     "execution_count": 71,
     "metadata": {},
     "output_type": "execute_result"
    }
   ],
   "source": [
    "# Only after reaching this point do I realize that I should have collected item price for all items in the last section\n",
    "# Therefore this code can be further optimized\n",
    "df_group_itemname = df.groupby(by='Item Name')\n",
    "df_by_pop_items = pd.DataFrame(df_group_itemname['Price'].count().sort_values(ascending=False))\n",
    "df_by_pop_items.rename(columns={'Price':'Purchase Count'},inplace=True)\n",
    "df_by_pop_items.reset_index(inplace=True)\n",
    "\n",
    "item_IDs = list()\n",
    "item_value = list()\n",
    "for item in df_by_pop_items['Item Name']:\n",
    "    for item_iter in range(len(df['Item Name'])):\n",
    "        if df['Item Name'][item_iter]==item:\n",
    "            item_IDs.append(df['Item ID'][item_iter])\n",
    "            item_value.append(df['Price'][item_iter])\n",
    "            break\n",
    "            \n",
    "df_by_pop_items['Item ID'] = item_IDs\n",
    "df_by_pop_items['Price']=item_value\n",
    "df_by_pop_items['Total Revenue']=df_by_pop_items['Price']*df_by_pop_items['Purchase Count']\n",
    "df_by_pop_items.sort_values(by='Total Revenue',ascending=False,inplace=True)\n",
    "df_by_pop_items.reset_index(inplace=True)\n",
    "df_by_pop_items.drop('index',axis=1,inplace=True)\n",
    "\n",
    "# Displaying analysis in a single table, after saving to a new df as above\n",
    "most_profitable_df = pd.DataFrame(df_by_pop_items[:5])\n",
    "most_profitable_df = most_profitable_df.style.format({'Price': '$ {:,.2f}','Total Revenue': '$ {:,.2f}'})\n",
    "most_profitable_df"
   ]
  }
 ],
 "metadata": {
  "kernelspec": {
   "display_name": "Python 3",
   "language": "python",
   "name": "python3"
  },
  "language_info": {
   "codemirror_mode": {
    "name": "ipython",
    "version": 3
   },
   "file_extension": ".py",
   "mimetype": "text/x-python",
   "name": "python",
   "nbconvert_exporter": "python",
   "pygments_lexer": "ipython3",
   "version": "3.6.3"
  }
 },
 "nbformat": 4,
 "nbformat_minor": 2
}
