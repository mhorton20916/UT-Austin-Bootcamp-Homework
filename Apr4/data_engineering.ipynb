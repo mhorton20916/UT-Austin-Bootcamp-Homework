{
 "cells": [
  {
   "cell_type": "code",
   "execution_count": 2,
   "metadata": {
    "collapsed": true
   },
   "outputs": [],
   "source": [
    "import pandas as pd\n",
    "import os\n",
    "from sqlalchemy import create_engine\n",
    "from sqlalchemy import Column, Integer, String, Float"
   ]
  },
  {
   "cell_type": "code",
   "execution_count": 32,
   "metadata": {},
   "outputs": [
    {
     "name": "stdout",
     "output_type": "stream",
     "text": [
      "Length of df: 19550\n",
      "Length of df (w/o na): 18103\n",
      "Saving file w/o na as clean_hawaii_measurements.csv\n",
      "Length of df: 9\n",
      "Length of df (w/o na): 9\n",
      "Saving file w/o na as clean_hawaii_stations.csv\n"
     ]
    }
   ],
   "source": [
    "files = os.listdir('Resources')\n",
    "file = files[0]\n",
    "for file in files:\n",
    "    df = pd.read_csv('Resources\\%s'%file)\n",
    "    df_nona = df.dropna()\n",
    "    print('Length of df: %d'%len(df['station']))\n",
    "    print('Length of df (w/o na): %d'%len(df_nona.dropna()))\n",
    "    df_nona.to_csv('Resources\\clean_%s.csv'%file.split('.')[0])\n",
    "    print('Saving file w/o na as clean_%s.csv'%file.split('.')[0])"
   ]
  },
  {
   "cell_type": "code",
   "execution_count": 27,
   "metadata": {},
   "outputs": [
    {
     "name": "stdout",
     "output_type": "stream",
     "text": [
      "Length of df: 9\n",
      "Length of df (w/o na): 9\n"
     ]
    }
   ],
   "source": [
    "\n",
    "\n"
   ]
  },
  {
   "cell_type": "code",
   "execution_count": 30,
   "metadata": {},
   "outputs": [
    {
     "data": {
      "text/plain": [
       "'hawaii_stations'"
      ]
     },
     "execution_count": 30,
     "metadata": {},
     "output_type": "execute_result"
    }
   ],
   "source": []
  },
  {
   "cell_type": "code",
   "execution_count": null,
   "metadata": {
    "collapsed": true
   },
   "outputs": [],
   "source": []
  }
 ],
 "metadata": {
  "kernelspec": {
   "display_name": "Python 3",
   "language": "python",
   "name": "python3"
  },
  "language_info": {
   "codemirror_mode": {
    "name": "ipython",
    "version": 3
   },
   "file_extension": ".py",
   "mimetype": "text/x-python",
   "name": "python",
   "nbconvert_exporter": "python",
   "pygments_lexer": "ipython3",
   "version": "3.6.3"
  }
 },
 "nbformat": 4,
 "nbformat_minor": 2
}
